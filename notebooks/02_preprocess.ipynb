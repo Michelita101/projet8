{
 "cells": [
  {
   "cell_type": "markdown",
   "id": "98f52c17",
   "metadata": {},
   "source": [
    "# __Préparation des données pour l’entraînement__\n",
    "\n",
    "\n",
    "_Le dataset a été exploré dans `01_data_overview.ipynb` (structure, visualisation, valeurs de `labelId`)._\n",
    "_Ce notebook prépare les données pour l'entraînement sur 8 classes principales, comme précisé dans le brief._\n",
    "\n",
    "__Rappel et éléments clés__\n",
    "- Contrairement aux projets précédents orientés classification, ici chaque image est associée à un masque sémantique où chaque pixel porte une étiquette. Cela implique __une gestion rigoureuse des paires (image, masque)__, sans désalignement. \n",
    "- Le déséquilibre des classes ne justifie pas un équilibrage par duplication, mais peut être compensé par __une pondération dans la fonction de perte__. Le format `TFRecord` a été choisi pour optimiser les entrées/sorties en CPU, au prix d’un code un peu plus complexe. \n",
    "- Le risque de fuite de données est contrôlé en réalisant __les splits avant tout traitement, et en assurant une stricte séparation des villes__ (Cityscapes). \n",
    "- Deux modèles seront comparés : un `U-Net` baseline et un modèle avancé type `DeepLabv3+`.\n"
   ]
  },
  {
   "cell_type": "code",
   "execution_count": 1,
   "id": "673daa3f",
   "metadata": {},
   "outputs": [],
   "source": [
    "import os\n",
    "import numpy as np\n",
    "import tensorflow as tf\n",
    "import cv2\n",
    "import albumentations as A\n",
    "import mlflow\n",
    "import matplotlib.pyplot as plt\n",
    "from matplotlib.colors import ListedColormap\n"
   ]
  },
  {
   "cell_type": "markdown",
   "id": "c79ce678",
   "metadata": {},
   "source": [
    "## __Sommaire__\n",
    "\n",
    "1. Mapping `labelId → trainId` (8 classes utiles)\n",
    "2. Resize/crop éventuel des images/masques\n",
    "3. Conversion en TFRecords ou arrays Numpy et sauvegarde des données “prêtes à l’emploi” dans data/processed/"
   ]
  },
  {
   "cell_type": "markdown",
   "id": "c0244f1b",
   "metadata": {},
   "source": [
    "## 1. __Mapping `labelId → 8 classes`__\n",
    "\n",
    "Cityscapes fournit :\n",
    "- 34 classes avec un identifiant (labelId)\n",
    "- 19 classes \"trainables\" (recommandées pour l’entraînement)\n",
    "- Des regroupements possibles selon les besoins métier"
   ]
  },
  {
   "cell_type": "code",
   "execution_count": 2,
   "id": "fd38c1ea",
   "metadata": {},
   "outputs": [
    {
     "data": {
      "text/html": [
       "<div>\n",
       "<style scoped>\n",
       "    .dataframe tbody tr th:only-of-type {\n",
       "        vertical-align: middle;\n",
       "    }\n",
       "\n",
       "    .dataframe tbody tr th {\n",
       "        vertical-align: top;\n",
       "    }\n",
       "\n",
       "    .dataframe thead th {\n",
       "        text-align: right;\n",
       "    }\n",
       "</style>\n",
       "<table border=\"1\" class=\"dataframe\">\n",
       "  <thead>\n",
       "    <tr style=\"text-align: right;\">\n",
       "      <th></th>\n",
       "      <th>labelId</th>\n",
       "      <th>name</th>\n",
       "    </tr>\n",
       "  </thead>\n",
       "  <tbody>\n",
       "    <tr>\n",
       "      <th>0</th>\n",
       "      <td>0</td>\n",
       "      <td>unlabeled</td>\n",
       "    </tr>\n",
       "    <tr>\n",
       "      <th>1</th>\n",
       "      <td>1</td>\n",
       "      <td>ego vehicle</td>\n",
       "    </tr>\n",
       "    <tr>\n",
       "      <th>2</th>\n",
       "      <td>2</td>\n",
       "      <td>rectification border</td>\n",
       "    </tr>\n",
       "    <tr>\n",
       "      <th>3</th>\n",
       "      <td>3</td>\n",
       "      <td>out of roi</td>\n",
       "    </tr>\n",
       "    <tr>\n",
       "      <th>4</th>\n",
       "      <td>4</td>\n",
       "      <td>static</td>\n",
       "    </tr>\n",
       "    <tr>\n",
       "      <th>5</th>\n",
       "      <td>5</td>\n",
       "      <td>dynamic</td>\n",
       "    </tr>\n",
       "    <tr>\n",
       "      <th>6</th>\n",
       "      <td>6</td>\n",
       "      <td>ground</td>\n",
       "    </tr>\n",
       "    <tr>\n",
       "      <th>7</th>\n",
       "      <td>7</td>\n",
       "      <td>road</td>\n",
       "    </tr>\n",
       "    <tr>\n",
       "      <th>8</th>\n",
       "      <td>8</td>\n",
       "      <td>sidewalk</td>\n",
       "    </tr>\n",
       "    <tr>\n",
       "      <th>9</th>\n",
       "      <td>9</td>\n",
       "      <td>parking</td>\n",
       "    </tr>\n",
       "  </tbody>\n",
       "</table>\n",
       "</div>"
      ],
      "text/plain": [
       "   labelId                  name\n",
       "0        0             unlabeled\n",
       "1        1           ego vehicle\n",
       "2        2  rectification border\n",
       "3        3            out of roi\n",
       "4        4                static\n",
       "5        5               dynamic\n",
       "6        6                ground\n",
       "7        7                  road\n",
       "8        8              sidewalk\n",
       "9        9               parking"
      ]
     },
     "metadata": {},
     "output_type": "display_data"
    }
   ],
   "source": [
    "# Liste simplifiée des 34 classes Cityscapes (labelId + nom uniquement) - cityscapesscripts/helpers/labels.py\n",
    "cityscapes_classes = [\n",
    "    (  0, 'unlabeled'),\n",
    "    (  1, 'ego vehicle'),\n",
    "    (  2, 'rectification border'),\n",
    "    (  3, 'out of roi'),\n",
    "    (  4, 'static'),\n",
    "    (  5, 'dynamic'),\n",
    "    (  6, 'ground'),\n",
    "    (  7, 'road'),\n",
    "    (  8, 'sidewalk'),\n",
    "    (  9, 'parking'),\n",
    "    ( 10, 'rail track'),\n",
    "    ( 11, 'building'),\n",
    "    ( 12, 'wall'),\n",
    "    ( 13, 'fence'),\n",
    "    ( 14, 'guard rail'),\n",
    "    ( 15, 'bridge'),\n",
    "    ( 16, 'tunnel'),\n",
    "    ( 17, 'pole'),\n",
    "    ( 18, 'polegroup'),\n",
    "    ( 19, 'traffic light'),\n",
    "    ( 20, 'traffic sign'),\n",
    "    ( 21, 'vegetation'),\n",
    "    ( 22, 'terrain'),\n",
    "    ( 23, 'sky'),\n",
    "    ( 24, 'person'),\n",
    "    ( 25, 'rider'),\n",
    "    ( 26, 'car'),\n",
    "    ( 27, 'truck'),\n",
    "    ( 28, 'bus'),\n",
    "    ( 29, 'caravan'),\n",
    "    ( 30, 'trailer'),\n",
    "    ( 31, 'train'),\n",
    "    ( 32, 'motorcycle'),\n",
    "    ( 33, 'bicycle')\n",
    "]\n",
    "\n",
    "# Affichage propre en DataFrame Pandas\n",
    "import pandas as pd\n",
    "df_cityscapes = pd.DataFrame(cityscapes_classes, columns=[\"labelId\", \"name\"])\n",
    "display(df_cityscapes.head(10))\n"
   ]
  },
  {
   "cell_type": "markdown",
   "id": "5652eb6d",
   "metadata": {},
   "source": [
    "Voici les 8 classes principales  avec les labelId associés\n",
    "| ID regroupé | Nom de la classe           | `labelId` inclus                            | Raison métier principale                         |\n",
    "|-------------|-----------------------------|---------------------------------------------|--------------------------------------------------|\n",
    "| 0           | __road__                    | 7                                           | Surface de conduite                             |\n",
    "| 1           | __sidewalk__                | 8                                           | Bordures à prendre en compte                    |\n",
    "| 2           | __construction__         | 11, 12, 13                                      | Décor statique urbain                           |\n",
    "| 3           | __object__           | 17, 19, 20                                      | Feux & panneaux à interpréter                   |\n",
    "| 4           | __nature__    | 21, 22                                      | Fond ou obstacle naturel                        |\n",
    "| 5           | __sky__                     | 23                                          | Contexte visuel (utile pour segmentation)       |\n",
    "| 6           | __human__          | 24, 25                                      | Objets mobiles critiques                        |\n",
    "| 7           | __vehicle__                | 26, 27, 28, 31, 32, 33                      | Voitures, bus, moto, vélo, etc. à éviter        |\n",
    "\n",
    "__Notes importantes__ :  \n",
    "- Tous les autres `labelId` (0 à 6, 9, 10, 14–16, 18, 29 et 30) seront __ignorés__ → on les mappe à `255` (valeur \"void\")."
   ]
  },
  {
   "cell_type": "code",
   "execution_count": 3,
   "id": "87178c23",
   "metadata": {},
   "outputs": [],
   "source": [
    "LABELID_TO_8CLASS = {\n",
    "    7: 0,    # road\n",
    "    8: 1,    # sidewalk\n",
    "    11: 2, 12: 2, 13: 2,     # construction elements\n",
    "    17: 3, 19: 3, 20: 3,     # objects\n",
    "    21: 4, 22: 4,            # vegetation + terrain\n",
    "    23: 5,                  # sky\n",
    "    24: 6, 25: 6,            # person & rider\n",
    "    26: 7, 27: 7, 28: 7, 31: 7, 32: 7, 33: 7  # vehicles\n",
    "}\n",
    "\n",
    "def map_to_8_classes(label_mask, mapping):\n",
    "    new_mask = np.ones_like(label_mask, dtype=np.uint8) * 255  # classe ignorée\n",
    "    for label_id, class_8 in mapping.items():\n",
    "        new_mask[label_mask == label_id] = class_8\n",
    "    return new_mask"
   ]
  },
  {
   "cell_type": "markdown",
   "id": "89c220db",
   "metadata": {},
   "source": [
    "Exemple d'utilisation possible ...."
   ]
  },
  {
   "cell_type": "code",
   "execution_count": 4,
   "id": "e80b10a8",
   "metadata": {},
   "outputs": [
    {
     "data": {
      "image/png": "[encoded data removed]",
      "text/plain": [
       "<Figure size 1200x600 with 2 Axes>"
      ]
     },
     "metadata": {},
     "output_type": "display_data"
    }
   ],
   "source": [
    "\n",
    "path_mask = \"../data/raw/gtFine/train/aachen/aachen_000000_000019_gtFine_labelIds.png\"\n",
    "label_mask = cv2.imread(path_mask, cv2.IMREAD_UNCHANGED)\n",
    "converted_mask = map_to_8_classes(label_mask, LABELID_TO_8CLASS)\n",
    "\n",
    "# Affichage des masques avant/après mapping\n",
    "cmap = ListedColormap(['black', 'gray', 'brown', 'red', 'green', 'blue', 'yellow', 'purple', 'white'])  # 8 classes + ignore\n",
    "fig, ax = plt.subplots(1, 2, figsize=(12, 6))\n",
    "ax[0].imshow(label_mask, cmap='jet', vmin=0, vmax=33)\n",
    "ax[0].set_title('Masque original (labelId)')\n",
    "ax[1].imshow(converted_mask, cmap=cmap, vmin=0, vmax=8)\n",
    "ax[1].set_title('Masque converti (8 classes)')\n",
    "plt.show()"
   ]
  },
  {
   "cell_type": "code",
   "execution_count": 5,
   "id": "981d9517",
   "metadata": {},
   "outputs": [
    {
     "name": "stdout",
     "output_type": "stream",
     "text": [
      "Dictionnaire des 8 classes exporté avec succès ;-)\n"
     ]
    },
    {
     "data": {
      "text/html": [
       "<div>\n",
       "<style scoped>\n",
       "    .dataframe tbody tr th:only-of-type {\n",
       "        vertical-align: middle;\n",
       "    }\n",
       "\n",
       "    .dataframe tbody tr th {\n",
       "        vertical-align: top;\n",
       "    }\n",
       "\n",
       "    .dataframe thead th {\n",
       "        text-align: right;\n",
       "    }\n",
       "</style>\n",
       "<table border=\"1\" class=\"dataframe\">\n",
       "  <thead>\n",
       "    <tr style=\"text-align: right;\">\n",
       "      <th></th>\n",
       "      <th>class_id</th>\n",
       "      <th>nom_metier</th>\n",
       "      <th>labelIds_inclus</th>\n",
       "    </tr>\n",
       "  </thead>\n",
       "  <tbody>\n",
       "    <tr>\n",
       "      <th>0</th>\n",
       "      <td>0</td>\n",
       "      <td>Surfaces planes</td>\n",
       "      <td>[7, 8]</td>\n",
       "    </tr>\n",
       "    <tr>\n",
       "      <th>1</th>\n",
       "      <td>1</td>\n",
       "      <td>Constructions</td>\n",
       "      <td>[11, 12]</td>\n",
       "    </tr>\n",
       "    <tr>\n",
       "      <th>2</th>\n",
       "      <td>2</td>\n",
       "      <td>Objets, obstacles</td>\n",
       "      <td>[19, 20]</td>\n",
       "    </tr>\n",
       "    <tr>\n",
       "      <th>3</th>\n",
       "      <td>3</td>\n",
       "      <td>Environnement</td>\n",
       "      <td>[21, 22]</td>\n",
       "    </tr>\n",
       "    <tr>\n",
       "      <th>4</th>\n",
       "      <td>4</td>\n",
       "      <td>Ciel</td>\n",
       "      <td>[23]</td>\n",
       "    </tr>\n",
       "    <tr>\n",
       "      <th>5</th>\n",
       "      <td>5</td>\n",
       "      <td>Humains</td>\n",
       "      <td>[24, 25]</td>\n",
       "    </tr>\n",
       "    <tr>\n",
       "      <th>6</th>\n",
       "      <td>6</td>\n",
       "      <td>Véhicules</td>\n",
       "      <td>[26, 27, 28, 31, 32, 33]</td>\n",
       "    </tr>\n",
       "    <tr>\n",
       "      <th>7</th>\n",
       "      <td>255</td>\n",
       "      <td>Ignoré</td>\n",
       "      <td>None</td>\n",
       "    </tr>\n",
       "  </tbody>\n",
       "</table>\n",
       "</div>"
      ],
      "text/plain": [
       "   class_id         nom_metier           labelIds_inclus\n",
       "0         0    Surfaces planes                    [7, 8]\n",
       "1         1      Constructions                  [11, 12]\n",
       "2         2  Objets, obstacles                  [19, 20]\n",
       "3         3      Environnement                  [21, 22]\n",
       "4         4               Ciel                      [23]\n",
       "5         5            Humains                  [24, 25]\n",
       "6         6          Véhicules  [26, 27, 28, 31, 32, 33]\n",
       "7       255             Ignoré                      None"
      ]
     },
     "execution_count": 5,
     "metadata": {},
     "output_type": "execute_result"
    }
   ],
   "source": [
    "# Construction du dictionnaire des 8 classes métiers\n",
    "data_8class = [\n",
    "    (0, \"Surfaces planes\", [7, 8]),\n",
    "    (1, \"Constructions\", [11, 12]),\n",
    "    (2, \"Objets, obstacles\", [19, 20]),\n",
    "    (3, \"Environnement\", [21, 22]),\n",
    "    (4, \"Ciel\", [23]),\n",
    "    (5, \"Humains\", [24, 25]),\n",
    "    (6, \"Véhicules\", [26, 27, 28, 31, 32, 33]),\n",
    "    (255, \"Ignoré\", None)\n",
    "]\n",
    "\n",
    "df_8class = pd.DataFrame(data_8class, columns=[\"class_id\", \"nom_metier\", \"labelIds_inclus\"])\n",
    "\n",
    "# Création du dossier si besoin\n",
    "os.makedirs(\"../data/dictionaries\", exist_ok=True)\n",
    "\n",
    "# Export\n",
    "df_8class.to_csv(\"../data/dictionaries/classes_8_mapping.csv\", index=False)\n",
    "\n",
    "# Confirmation\n",
    "print(\"Dictionnaire des 8 classes exporté avec succès ;-)\")\n",
    "df_8class\n",
    "\n"
   ]
  },
  {
   "cell_type": "markdown",
   "id": "0d7e5212",
   "metadata": {},
   "source": [
    "## 2. __Resize__\n",
    "\n",
    "__Pourquoi redimensionner les images et les masques ?__\n",
    "\n",
    "Le futur modèle `U-Net` (ou `DeepLabV3+`) attend des images de taille uniforme, généralement un multiple de 32 (comme 256x512, 512x1024, etc.)\n",
    "\n",
    "Nous allons ainsi :\n",
    "- Créer des __images redimensionnées__ uniformément,\n",
    "- Conserver des __masques convertis en 8 classes__, avec une interpolation adaptée,\n",
    "- Les __sauvegarder proprement__ dans l'arborescence `data/processed/`.\n",
    "\n",
    "| Élément    | Interpolation                | Format de sortie | Dossier cible                    |\n",
    "| ---------- | ---------------------------- | ---------------- | -------------------------------- |\n",
    "| __Image__  | `cv2.INTER_LINEAR`           | `.png` ou `.npy` | `data/processed/images_256x512/` |\n",
    "| __Masque__ | `cv2.INTER_NEAREST` (obligé) | `.png` ou `.npy` | `data/processed/masks_256x512/`  |\n"
   ]
  },
  {
   "cell_type": "code",
   "execution_count": 6,
   "id": "4c7da20c",
   "metadata": {},
   "outputs": [],
   "source": [
    "# Fonction de redimensionnement et sauvegarde\n",
    "\n",
    "def resize_and_save(image_path, mask_path, output_dir_img, output_dir_mask, size=(256, 512)):\n",
    "    \"\"\"\n",
    "    Redimensionne une image et son masque associé, puis les sauvegarde dans des dossiers distincts.\n",
    "    \"\"\"\n",
    "    # Charger l'image (RGB)\n",
    "    image = cv2.imread(image_path)\n",
    "    image = cv2.cvtColor(image, cv2.COLOR_BGR2RGB)\n",
    "\n",
    "    # Charger le masque (uint8 brut labelId)\n",
    "    label_mask = cv2.imread(mask_path, cv2.IMREAD_UNCHANGED)\n",
    "\n",
    "    # Convertir le masque en 8 classes\n",
    "    converted_mask = map_to_8_classes(label_mask, LABELID_TO_8CLASS)\n",
    "\n",
    "    # Resize\n",
    "    image_resized = cv2.resize(image, size, interpolation=cv2.INTER_LINEAR)\n",
    "    mask_resized = cv2.resize(converted_mask, size, interpolation=cv2.INTER_NEAREST)\n",
    "\n",
    "    # Préparer les noms\n",
    "    name = os.path.basename(image_path).replace(\"_leftImg8bit.png\", \"\")\n",
    "    img_out_path = os.path.join(output_dir_img, f\"{name}.png\")\n",
    "    mask_out_path = os.path.join(output_dir_mask, f\"{name}_mask.png\")\n",
    "\n",
    "    # Créer les dossiers si besoin\n",
    "    os.makedirs(output_dir_img, exist_ok=True)\n",
    "    os.makedirs(output_dir_mask, exist_ok=True)\n",
    "    \n",
    "    # Enregistrer sur disque\n",
    "    # Attention : OpenCV attend BGR pour l'image\n",
    "    cv2.imwrite(img_out_path, cv2.cvtColor(image_resized, cv2.COLOR_RGB2BGR))\n",
    "    cv2.imwrite(mask_out_path, mask_resized)\n"
   ]
  },
  {
   "cell_type": "code",
   "execution_count": 7,
   "id": "91cf57c9",
   "metadata": {},
   "outputs": [],
   "source": [
    "# Traitement de tous les splits\n",
    "def process_all_splits(\n",
    "    root_images=\"../data/raw/leftImg8bit\",\n",
    "    root_masks=\"../data/raw/gtFine\",\n",
    "    out_img_root=\"../data/processed/images_256x512\",\n",
    "    out_mask_root=\"../data/processed/masks_256x512\",\n",
    "    size=(256, 512)\n",
    "):\n",
    "    splits = ['train', 'val', 'test']\n",
    "    for split in splits:\n",
    "        print(f\"\\n Traitement split : {split}\")\n",
    "\n",
    "        split_img_dir = os.path.join(root_images, split)\n",
    "        split_mask_dir = os.path.join(root_masks, split)\n",
    "\n",
    "        for city in os.listdir(split_img_dir):\n",
    "            img_city_dir = os.path.join(split_img_dir, city)\n",
    "            mask_city_dir = os.path.join(split_mask_dir, city)\n",
    "\n",
    "            for filename in os.listdir(img_city_dir):\n",
    "                if filename.endswith(\"_leftImg8bit.png\"):\n",
    "                    name_base = filename.replace(\"_leftImg8bit.png\", \"\")\n",
    "                    img_path = os.path.join(img_city_dir, filename)\n",
    "                    mask_path = os.path.join(mask_city_dir, f\"{name_base}_gtFine_labelIds.png\")\n",
    "\n",
    "                    # Sortie\n",
    "                    out_img_dir = os.path.join(out_img_root, split)\n",
    "                    out_mask_dir = os.path.join(out_mask_root, split)\n",
    "\n",
    "                    try:\n",
    "                        resize_and_save(\n",
    "                            img_path, mask_path,\n",
    "                            out_img_dir, out_mask_dir,\n",
    "                            size\n",
    "                        )\n",
    "                    except Exception as e:\n",
    "                        print(f\" Erreur avec {img_path} : {e}\")\n"
   ]
  },
  {
   "cell_type": "code",
   "execution_count": 8,
   "id": "bd55f64a",
   "metadata": {},
   "outputs": [
    {
     "name": "stdout",
     "output_type": "stream",
     "text": [
      "\n",
      " Traitement split : train\n",
      "\n",
      " Traitement split : val\n",
      "\n",
      " Traitement split : test\n"
     ]
    }
   ],
   "source": [
    "process_all_splits()\n"
   ]
  },
  {
   "cell_type": "code",
   "execution_count": 9,
   "id": "f84b5d9b",
   "metadata": {},
   "outputs": [
    {
     "name": "stdout",
     "output_type": "stream",
     "text": [
      "2975\n"
     ]
    }
   ],
   "source": [
    "from pathlib import Path\n",
    "print(len(list(Path(\"../data/processed/images_256x512/train\").rglob(\"*.png\"))))\n"
   ]
  },
  {
   "cell_type": "markdown",
   "id": "facf7c81",
   "metadata": {},
   "source": [
    "## 3. __Conversion en TFRecords__\n",
    "\n",
    "Un TFRecord est un format de fichier binaire optimisé spécialement pour TensorFlow.\n",
    "Il permet de stocker plein d’exemples (images, masques, labels…) dans un seul fichier compact et rapide à lire. Parfait pour gérer une grande quantité de données et parfaitement compatible avec notre environnement actuel."
   ]
  },
  {
   "cell_type": "code",
   "execution_count": 10,
   "id": "74613ce6",
   "metadata": {},
   "outputs": [],
   "source": [
    "# Conversion en TFRecords\n",
    "from tqdm import tqdm\n",
    "\n",
    "def _bytes_feature(value):\n",
    "    return tf.train.Feature(bytes_list=tf.train.BytesList(value=[value]))\n",
    "\n",
    "def serialize_example(image, mask):\n",
    "    feature = {\n",
    "        \"image\": _bytes_feature(image),\n",
    "        \"mask\": _bytes_feature(mask)\n",
    "    }\n",
    "    example_proto = tf.train.Example(features=tf.train.Features(feature=feature))\n",
    "    return example_proto.SerializeToString()\n"
   ]
  },
  {
   "cell_type": "code",
   "execution_count": null,
   "id": "c30f420f",
   "metadata": {},
   "outputs": [],
   "source": [
    "\n",
    "def convert_to_tfrecords(img_dir, mask_dir, output_path):\n",
    "    image_filenames = sorted(os.listdir(img_dir))\n",
    "    mask_filenames = sorted(os.listdir(mask_dir))\n",
    "\n",
    "    assert len(image_filenames) == len(mask_filenames), \"Image et masque : tailles différentes !\"\n",
    "\n",
    "    with tf.io.TFRecordWriter(output_path) as writer:\n",
    "        for img_name, mask_name in tqdm(zip(image_filenames, mask_filenames), total=len(image_filenames)):\n",
    "            # Lecture\n",
    "            img_path = os.path.join(img_dir, img_name)\n",
    "            mask_path = os.path.join(mask_dir, mask_name)\n",
    "\n",
    "            image = cv2.imread(img_path)\n",
    "            mask = cv2.imread(mask_path, cv2.IMREAD_UNCHANGED)  # attention : mask = uint8 avec classes\n",
    "\n",
    "            # Vérification\n",
    "            if image is None or mask is None:\n",
    "                print(f\"⚠️ Fichier manquant ou corrompu : {img_name}\")\n",
    "                continue\n",
    "\n",
    "            # Conversion en bytes\n",
    "            image_bytes = tf.io.encode_png(image).numpy()\n",
    "            \n",
    "            # Ajouter une dimension au masque\n",
    "            mask = np.expand_dims(mask, axis=-1)  # (H, W) → (H, W, 1)\n",
    "            mask_bytes = tf.io.encode_png(mask).numpy()\n",
    "\n",
    "            example = serialize_example(image_bytes, mask_bytes)\n",
    "            writer.write(example)\n",
    "\n",
    "    print(f\"TFRecord créé ({output_path}) avec {len(image_filenames)} exemples.\")\n",
    "\n"
   ]
  },
  {
   "cell_type": "code",
   "execution_count": 14,
   "id": "ae71af5f",
   "metadata": {},
   "outputs": [
    {
     "name": "stderr",
     "output_type": "stream",
     "text": [
      "100%|██████████| 2975/2975 [01:41<00:00, 29.30it/s]\n"
     ]
    },
    {
     "name": "stdout",
     "output_type": "stream",
     "text": [
      "TFRecord créé : ../data/processed/tfrecords/train.tfrecord\n"
     ]
    },
    {
     "name": "stderr",
     "output_type": "stream",
     "text": [
      "100%|██████████| 500/500 [00:17<00:00, 28.91it/s]\n"
     ]
    },
    {
     "name": "stdout",
     "output_type": "stream",
     "text": [
      "TFRecord créé : ../data/processed/tfrecords/val.tfrecord\n"
     ]
    },
    {
     "name": "stderr",
     "output_type": "stream",
     "text": [
      "100%|██████████| 1525/1525 [00:55<00:00, 27.59it/s]"
     ]
    },
    {
     "name": "stdout",
     "output_type": "stream",
     "text": [
      "TFRecord créé : ../data/processed/tfrecords/test.tfrecord\n"
     ]
    },
    {
     "name": "stderr",
     "output_type": "stream",
     "text": [
      "\n"
     ]
    }
   ],
   "source": [
    "# Conversion des splits en TFRecords\n",
    "# Dossier de sortie\n",
    "os.makedirs(\"../data/processed/tfrecords\", exist_ok=True)\n",
    "\n",
    "# Création pour train / val / test\n",
    "splits = [\"train\", \"val\", \"test\"]\n",
    "for split in splits:\n",
    "    img_dir = f\"../data/processed/images_256x512/{split}\"\n",
    "    mask_dir = f\"../data/processed/masks_256x512/{split}\"\n",
    "    tfrecord_path = f\"../data/processed/tfrecords/{split}.tfrecord\"\n",
    "\n",
    "    convert_to_tfrecords(img_dir, mask_dir, tfrecord_path)\n"
   ]
  },
  {
   "cell_type": "markdown",
   "id": "ffffc1c4",
   "metadata": {},
   "source": [
    "## Résumé — Préparation des données\n",
    "\n",
    "- Téléchargement et extraction des données `Cityscapes`\n",
    "- Mapping des 34 classes officielles vers 8 classes métiers\n",
    "- Resize des images et masques à `256×512`\n",
    "- Exportation des images et masques en format `TFRecords` pour train, validation, et test.  \n",
    "\n",
    "Les données sont prêtes pour être utilisées dans un pipeline `tf.data.Dataset`.  \n",
    "\n",
    "__Pourquoi utiliser TFRecords ?__\n",
    "\n",
    "- Optimisation des temps d’accès disque\n",
    "- Lecture en streaming (idéal pour CPU)\n",
    "- Structure unifiée : chaque fichier contient image + masque\n",
    "- Compatible avec `tf.data.Dataset` et `Keras` directement.  \n",
    "\n",
    "⚠️ La normalisation et l’augmentation seront appliquées __plus tard__, au moment de la modélisation.  \n",
    "\n",
    "__Prochaine étape : Créer un pipeline `tf.data.Dataset`__  \n",
    "\n",
    "Nous allons :\n",
    "- Lire les fichiers `.tfrecord`\n",
    "- Les décoder en images et masques\n",
    "- Appliquer une normalisation\n",
    "- Ajouter des augmentations (flip, crop, etc.)\n",
    "- Préparer les données pour l'entraînement des modèle\n"
   ]
  }
 ],
 "metadata": {
  "kernelspec": {
   "display_name": "seg-auto",
   "language": "python",
   "name": "python3"
  },
  "language_info": {
   "codemirror_mode": {
    "name": "ipython",
    "version": 3
   },
   "file_extension": ".py",
   "mimetype": "text/x-python",
   "name": "python",
   "nbconvert_exporter": "python",
   "pygments_lexer": "ipython3",
   "version": "3.11.13"
  }
 },
 "nbformat": 4,
 "nbformat_minor": 5
}
