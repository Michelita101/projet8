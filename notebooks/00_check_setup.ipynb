{
 "cells": [
  {
   "cell_type": "code",
   "execution_count": 1,
   "id": "d0e42c91",
   "metadata": {},
   "outputs": [
    {
     "name": "stdout",
     "output_type": "stream",
     "text": [
      "✅ Environnement prêt !\n",
      "TensorFlow version : 2.18.0\n",
      "GPU visible ? []\n"
     ]
    }
   ],
   "source": [
    "import os\n",
    "import numpy as np\n",
    "import tensorflow as tf\n",
    "import cv2\n",
    "import albumentations as A\n",
    "import mlflow\n",
    "\n",
    "print(\"✅ Environnement prêt !\")\n",
    "print(\"TensorFlow version :\", tf.__version__)\n",
    "print(\"GPU visible ?\", tf.config.list_physical_devices(\"GPU\"))\n"
   ]
  }
 ],
 "metadata": {
  "kernelspec": {
   "display_name": "seg-auto",
   "language": "python",
   "name": "python3"
  },
  "language_info": {
   "codemirror_mode": {
    "name": "ipython",
    "version": 3
   },
   "file_extension": ".py",
   "mimetype": "text/x-python",
   "name": "python",
   "nbconvert_exporter": "python",
   "pygments_lexer": "ipython3",
   "version": "3.11.13"
  }
 },
 "nbformat": 4,
 "nbformat_minor": 5
}
